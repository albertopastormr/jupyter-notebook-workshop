{
 "cells": [
  {
   "cell_type": "markdown",
   "metadata": {},
   "source": [
    "# Cálculo científico con Jupyter - _\"Talleres que molan\"_"
   ]
  },
  {
   "cell_type": "markdown",
   "metadata": {},
   "source": [
    "<img src=\"./JupyterFisicas.jpg\" alt=\"drawing\" width=\"500\"/>\n"
   ]
  },
  {
   "cell_type": "markdown",
   "metadata": {},
   "source": [
    "**Ponente:** [Alberto Pastor Moreno](https://albertopastormr.me/) - [@albertopastormr](https://twitter.com/albertopastormr)\n",
    "\n",
    "**Organizado por:**\n",
    "\n",
    "- [Oficina de Software Libre de la Universidad Complutense de Madrid](https://www.ucm.es/oficina-de-software-libre/)\n",
    "![otea-logo](otea.png)\n",
    "- [SciData](https://scidataucm.org/)\n",
    "<img src=\"scidata-logo.png\" alt=\"drawing\" width=\"300\"/>\n",
    "\n",
    "- [Facultad de Ciencias Físicas](https://fisicas.ucm.es/)\n",
    "<img src=\"ucm-logo.png\" alt=\"drawing\" width=\"300\"/>\n"
   ]
  },
  {
   "cell_type": "markdown",
   "metadata": {},
   "source": [
    "## Project Jupyter"
   ]
  },
  {
   "cell_type": "markdown",
   "metadata": {},
   "source": [
    "![](jupyter-logo2.png)"
   ]
  },
  {
   "cell_type": "markdown",
   "metadata": {},
   "source": [
    "[Project Jupyter](https://jupyter.org/about) es una organización sin ánimo de lucro que desarrolla y mantiene software libre con [licencia BSD](https://opensource.org/licenses/BSD-3-Clause). Nació en 2014 desde el proyecto ya previamente existente [IPython](https://ipython.org/) (hablaremos más adelante de ello). Prácticamente toda su operativa se resume en desarrollar y construir sobre el entorno Notebook, del que hablaremos más adelante. Por ello, son responsables del desarrollo de proyectos como [Binder](https://mybinder.org/), [NBViewer](https://nbviewer.jupyter.org/) y [JupyterHub](https://jupyter.org/hub); todos se integran con arquitectura Notebook. Project Jupyter recibe el soporte de [NumFocus](https://numfocus.org/), organización que vela por el desarrollo de herramientas científicas open-source con el objetivo de conseguir una ciencia amplia y abierta. La comunidad de Project Jupyter es realmente extensa, tanto es así que organizan colaborativamente [JupyterCon](https://t.co/NjJypi80sj). Si quieres participar en la comunidad, no olvides leer [su código de conducta](https://github.com/jupyter/governance/blob/master/conduct/code_of_conduct.md).\n",
    "\n",
    "Puedes encontrar todos los proyectos de Project Jupyter en los repositorios almacenados bajo su organización en GitHub [aquí](https://github.com/jupyter).\n",
    "\n",
    "La documentación oficial de todo el software desarrollado por Project Jupyter la puedes encontrar [aquí](https://jupyter.org/documentation)."
   ]
  },
  {
   "cell_type": "markdown",
   "metadata": {},
   "source": [
    "## Jupyter Notebook"
   ]
  },
  {
   "cell_type": "markdown",
   "metadata": {},
   "source": [
    "Jupyter Notebook es un formato de documento abierto basado en JSON. Los documentos Jupyter Notebook contienen código ejecutable, texto rico en formateado con Markdown, ecuaciones con LaTeX y visualizaciones sin límites. Jupyter Notebook es un proyecto de Project Jupyter cuyo objetivo es facilitar la edición de textos científicos, agregándoles una nueva dimensión de interacción en la lectura permitiendo ejecutar el código citado en el documento. Jupyter Notebook es utilizado a diario por entidades tan relevantes en el la industria tecnológica como Google, Microsoft e IBM y por investigadores de instituciones de la talla de Berkeley o NASA."
   ]
  },
  {
   "cell_type": "markdown",
   "metadata": {},
   "source": [
    "![](jupyter-ui.png)"
   ]
  },
  {
   "cell_type": "markdown",
   "metadata": {},
   "source": [
    "A continuación veremos los pilares de Jupyter Notebook que nos ayudarán a entender levemente cómo funciona internamente."
   ]
  },
  {
   "cell_type": "markdown",
   "metadata": {},
   "source": [
    "### Celdas"
   ]
  },
  {
   "cell_type": "markdown",
   "metadata": {},
   "source": [
    "Los documentos Jupyter Notebook se componen de una secuencia de celdas que contienen código o texto. Jupyter Notebook comtempla dos tipos diferentes de celdas:\n",
    "- Celdas de código: cuando son ejecutadas se procesan las intrucciones alojadas en la celda. Si las instrucciones ejecutadas tuvieran salida o alguna instrucción que escribe en pantalla como `print()`, se escribiría el resultado a continuación de la celda.\n",
    "- Celdas Markdown: cuando son ejecutadas se maqueta el texto alojado en la celda.\n",
    "\n",
    "Hasta ahora, no has visto ninguna celda de código, todas las celdas del documento hasta este instante, incluidas las que muestran imágenes y enlaces, son celdas Markdown. Por lo tanto, este texto, se encuentra en una celda Markdown. Volveremos con ello más adelante."
   ]
  },
  {
   "cell_type": "markdown",
   "metadata": {},
   "source": [
    "La siguiente celda es una celda de código que ejecuta una suma escribiendo en pantalla el resultado:"
   ]
  },
  {
   "cell_type": "code",
   "execution_count": 1,
   "metadata": {
    "scrolled": true
   },
   "outputs": [
    {
     "data": {
      "text/plain": [
       "4"
      ]
     },
     "execution_count": 1,
     "metadata": {},
     "output_type": "execute_result"
    }
   ],
   "source": [
    "2 + 2"
   ]
  },
  {
   "cell_type": "markdown",
   "metadata": {},
   "source": [
    "Las celdas de código pueden contener una o muchas instrucciones; simplemente escribe código como lo harías en un IDE cualquiera pero dividiendo el código en secciones (celdas) lógicamente separadas. De esta forma, tendrás un documento limpio y fácilmente mantenible, pudiendo probar pequeñas porciones de código con variables declaradas en celdas anteriores."
   ]
  },
  {
   "cell_type": "markdown",
   "metadata": {},
   "source": [
    "A continuación se muestra una celda de código que realiza algunas instrucciones Python algo más complejas que el ejemplo anterior:"
   ]
  },
  {
   "cell_type": "code",
   "execution_count": 2,
   "metadata": {},
   "outputs": [
    {
     "name": "stdout",
     "output_type": "stream",
     "text": [
      "Vuelta del bucle numero  0\n",
      "Vuelta del bucle numero  1\n",
      "Vuelta del bucle numero  2\n",
      "Vuelta del bucle numero  3\n",
      "Vuelta del bucle numero  4\n",
      "Vuelta del bucle numero  5\n",
      "Vuelta del bucle numero  6\n",
      "Vuelta del bucle numero  7\n",
      "Vuelta del bucle numero  8\n",
      "Vuelta del bucle numero  9\n"
     ]
    }
   ],
   "source": [
    "for i in range(0,10):\n",
    "    print('Vuelta del bucle numero ', i)"
   ]
  },
  {
   "cell_type": "markdown",
   "metadata": {},
   "source": [
    "Como has podido comprobar, la salida de la ejecución de una celda de código puede concatenar varias instrucciones de impresión."
   ]
  },
  {
   "cell_type": "code",
   "execution_count": 3,
   "metadata": {},
   "outputs": [],
   "source": [
    "a = 2"
   ]
  },
  {
   "cell_type": "markdown",
   "metadata": {},
   "source": [
    "La celda superior no ha mostrado nada. Esto se debe a que su instrucción ha sido una asignación a una variable `a`, la cual, tras la ejecución de la celda, pasa a estar disponible en todo el presente documento Notebook con su correspondiente valor asignado. \n",
    "\n",
    "Todas las variables utilizadas en el documento Notebook pasan a una _bolsa_ de variables activas que pueden ser utilizadas en cualquier celda de código."
   ]
  },
  {
   "cell_type": "code",
   "execution_count": 4,
   "metadata": {},
   "outputs": [
    {
     "name": "stdout",
     "output_type": "stream",
     "text": [
      "2\n"
     ]
    }
   ],
   "source": [
    "print(a)"
   ]
  },
  {
   "cell_type": "markdown",
   "metadata": {},
   "source": [
    "También podemos modificar el valor de `a` en cualquier celda"
   ]
  },
  {
   "cell_type": "code",
   "execution_count": 5,
   "metadata": {},
   "outputs": [],
   "source": [
    "a = 3"
   ]
  },
  {
   "cell_type": "code",
   "execution_count": 6,
   "metadata": {
    "scrolled": true
   },
   "outputs": [
    {
     "name": "stdout",
     "output_type": "stream",
     "text": [
      "3\n"
     ]
    }
   ],
   "source": [
    "print(a)"
   ]
  },
  {
   "cell_type": "markdown",
   "metadata": {},
   "source": [
    "Ahora, todas las celdas del documento conocen a la variable `a` con el valor 3. Por lo tanto, podemos utilizarla considerando esto:"
   ]
  },
  {
   "cell_type": "code",
   "execution_count": 7,
   "metadata": {},
   "outputs": [
    {
     "data": {
      "text/plain": [
       "5"
      ]
     },
     "execution_count": 7,
     "metadata": {},
     "output_type": "execute_result"
    }
   ],
   "source": [
    "2 + a "
   ]
  },
  {
   "cell_type": "markdown",
   "metadata": {},
   "source": [
    "Si aplicas estos conceptos al desarrollo de tu código, podrás diseñar cualquier análisis o experimento científico construyendo celdas como hemos hecho hasta ahora."
   ]
  },
  {
   "cell_type": "markdown",
   "metadata": {},
   "source": [
    "### Kernel"
   ]
  },
  {
   "cell_type": "markdown",
   "metadata": {},
   "source": [
    "Un kernel es un motor computacional sobre el cual se ejecuta cada una de las celdas de código del documento; cada documento Notebook tiene asignado un kernel. El kernel de un documento Notebook persiste en el tiempo y las ejecuciones de celdas, por lo tanto, si declaras una variable en la ejecución de una instrucción, esa variable será accesible en cualquier posible futura ejecución de otra instrucción (o la misma instrucción). Lo mismo ocurre con ejecuciones de instrucciones `import`; aquello que haya sido importado una vez, estará disponible en todas las celdas."
   ]
  },
  {
   "cell_type": "markdown",
   "metadata": {},
   "source": [
    "![](kernel-pipeline.png)"
   ]
  },
  {
   "cell_type": "markdown",
   "metadata": {},
   "source": [
    "## Markdown"
   ]
  },
  {
   "cell_type": "markdown",
   "metadata": {},
   "source": [
    "Markdown es un lenguaje de marcado ligero creado en el 2004 que permite formatear textos con apenas algunos comandos simples y sencillos de aprender y aplicar. A pesar de haber recibido diferentes versiones (por ejemplo, GitHub usa su propia versión para interpretar ficheros Markdown alojados en sus repositorios), Markdown ha sido estandarizado en múltiples herramientas como Jupyter. Markdown realiza de puente con código HTML exponiendo una usabilidad mucho más amigable. Es por ello por lo cual en celdas Markdown también se puede ejecutar código HTML.\n",
    "\n",
    "La siguiente imagen resume la mayoría de comandos necesarios para formatear prácticamente cualquier texto."
   ]
  },
  {
   "cell_type": "markdown",
   "metadata": {},
   "source": [
    "![](markdown-cheatsheet.png)"
   ]
  },
  {
   "cell_type": "markdown",
   "metadata": {},
   "source": [
    "Al ejecutar una celda Markdown veremos cómo traduce el sistema nuestro texto escrito.\n",
    "\n",
    "Markdown permite utilizar sintaxis más avanzada que la expuesta en la imagen, como por ejemplo la sintaxis necesaria para crear una tabla. Para ello, recomiendo visitar [este enlace](https://github.com/adam-p/markdown-here/wiki/Markdown-Cheatsheet)"
   ]
  },
  {
   "cell_type": "markdown",
   "metadata": {},
   "source": [
    "Markdown, además, permite utilizar el modo matemático de LaTeX, lo cual da lugar a un sinfín de posibilidades en la redacción de nuestros documentos con Jupyter:\n",
    "\n",
    "$$ x = \\sum_{i=0}^{N}{y^2} $$"
   ]
  },
  {
   "cell_type": "markdown",
   "metadata": {},
   "source": [
    "## IPython"
   ]
  },
  {
   "cell_type": "markdown",
   "metadata": {},
   "source": [
    "[IPython]() es una herramienta de computación interactiva integrada bajo el ámbito de Project Jupyter. Los documentos Notebook originalmente eran una característica de IPython hasta 2014, cuando Jupyter Notebook se formó utilizando IPython como kernel. IPython proporciona una _shell_ interactiva con características como resaltado de líneas que no ofrece la _shell_ predeterminada de Python."
   ]
  },
  {
   "cell_type": "markdown",
   "metadata": {},
   "source": [
    "![](ipython.png)"
   ]
  },
  {
   "cell_type": "markdown",
   "metadata": {},
   "source": [
    "## Otros kernels"
   ]
  },
  {
   "cell_type": "markdown",
   "metadata": {},
   "source": [
    "Dado que Jupyter es software libre, la comunidad de usuarios ha desarrollado múltiples kernels para bastantes lenguajes no nativos en la herramienta, como R, Scala, Matlab y Octave. Puedes encontrar un enlace a todos los kernels disponibles [aquí](https://github.com/jupyter/jupyter/wiki/Jupyter-kernels)."
   ]
  },
  {
   "cell_type": "markdown",
   "metadata": {},
   "source": [
    "![](kernel-list.png)"
   ]
  },
  {
   "cell_type": "markdown",
   "metadata": {},
   "source": [
    "Si quieres desarrollar en un lenguaje que no sea Python, no hay ningún problema, ya que eligiendo el kernel que necesites con unos pocos pasos podrás crear y editar documentos Notebook en otros lenguajes."
   ]
  },
  {
   "cell_type": "markdown",
   "metadata": {},
   "source": [
    "## Exportar Jupyter Notebook en PDF"
   ]
  },
  {
   "cell_type": "markdown",
   "metadata": {},
   "source": [
    "Una vez has realizado todos tus experimentos y análisis en tu documento Notebook, te gustaría poder enseñarle a tus compañeros o profesores lo que has hecho en tu Notebook, mostrando tu documentación y código. Para ello, puedes exportar cualquier documento Notebook en un documento PDF, un formato más aceptado universalmente, desde el propio Jupyter."
   ]
  },
  {
   "cell_type": "markdown",
   "metadata": {},
   "source": [
    "![](export-pdf.png)"
   ]
  },
  {
   "cell_type": "markdown",
   "metadata": {},
   "source": [
    "## Binder"
   ]
  },
  {
   "cell_type": "markdown",
   "metadata": {},
   "source": [
    "[Binder](https://mybinder.org/), herramienta desarrollada y mantenida por Project Jupyter, permite abrir y compartir un fichero Notebook con un entorno ejecutable sin preocuparse por las dependencias necesarias (librerías) desde un repositorio alojado en GitHub. Binder no requiere tener Jupyter Notebook instalado; simplemente accede a un Notebook hosteado con Binder desde un navegador web y al instante podrás modificar el contenido del Notebook y ejecutar cualquier celda de código."
   ]
  },
  {
   "cell_type": "markdown",
   "metadata": {},
   "source": [
    "![](binder-intro.png)"
   ]
  },
  {
   "cell_type": "markdown",
   "metadata": {},
   "source": [
    "Si quieres compartir tus documentos Notebook con tus compañeros (o con cualquier persona que no esté trabajando contigo en el Notebook), utiliza Binder, ya que proporcionas un acceso sencillo y rápido evitándoles tener que instalar todas tus dependencias, además de Jupyter Notebook."
   ]
  },
  {
   "cell_type": "markdown",
   "metadata": {},
   "source": [
    "## Google Colaboratory"
   ]
  },
  {
   "cell_type": "markdown",
   "metadata": {},
   "source": [
    "[Google Colaboratory](https://colab.research.google.com/) es un entorno Jupyter Notebook enfocado en la educación e investigación que te permite realizar todo lo que podrías hacer con Jupyter Notebook en local pero ejecutando tu código en sus servidores sin coste alguno. Además, puedes almacenar los Notebook que crees y utilices en tu almacenamiento Drive, para lo cual necesitarás una cuenta de Google (tu cuenta UCM sirve, además, tendrás almacenamiento ilimitado con ella). Para utilizar Google Colaboratory no es necesario tener instalado Jupyter Notebook, además, funciona en cualquier sistema operativo. Simplemente accede a https://colab.research.google.com en un navegador web moderno. Puedes editar ficheros Notebook que hubieses creado y editado previamente en local o con otras herramientas (cualquier fichero `.ipynb`), además de editar ficheros Notebook almacenados en repositorios GitHub. Al entrar por primera vez, verás únicamente una ventana similar a esta que te introduce a la herramienta:"
   ]
  },
  {
   "cell_type": "markdown",
   "metadata": {},
   "source": [
    "![gcolab](gcolab-intro.png)"
   ]
  },
  {
   "cell_type": "markdown",
   "metadata": {},
   "source": [
    "Una vez te hayas logueado, podrás guardar ficheros Notebook en tu unidad Drive o abrir ficheros ya guardados previamente."
   ]
  },
  {
   "cell_type": "markdown",
   "metadata": {},
   "source": [
    "![gcolab account](gcolab-account.png)"
   ]
  },
  {
   "cell_type": "markdown",
   "metadata": {},
   "source": [
    "### ¿Por qué es tan interesante Google Colaboratory?"
   ]
  },
  {
   "cell_type": "markdown",
   "metadata": {},
   "source": [
    "Google Colaboratory no ejecuta nada en tu ordenador, por lo tanto puedes utilizar un ordenador con bajas prestaciones para realizar tus prácticas de clase o preparar tus publicaciones sin preocuparte por la capacidad de cómputo de tu ordenador. Además, puedes decidir que los servidores de Google Colaboratory corran tus ejecuciones de celdas de código en GPU (Tesla K80) o en TPU, en vez de la opción predeterminada, CPU."
   ]
  },
  {
   "cell_type": "markdown",
   "metadata": {},
   "source": [
    "![](gcolab-gpu.png)"
   ]
  },
  {
   "cell_type": "markdown",
   "metadata": {},
   "source": [
    "### Algo malo tiene que tener Google Colaboratory"
   ]
  },
  {
   "cell_type": "markdown",
   "metadata": {},
   "source": [
    " El principal incoveniente de Google Colaboratory es que solo soporta Python (3.6 y 2.7). Además algunas librerías, aunque sean populares, no están instaladas en los sistemas en los que corre Google Colaboratory, por lo cual necesitas ejecutar algunos pasos (una búsqueda en Google debería ser suficiente para conocer qué pasos son) para instalar algunas librerías. A pesar de ello, la gran mayoría de librerías de uso científico en Machine Learning se encuentran instaladas y solo necesitas importarlas. "
   ]
  },
  {
   "cell_type": "markdown",
   "metadata": {},
   "source": [
    "![](gcolab-other-lang.png)"
   ]
  },
  {
   "cell_type": "markdown",
   "metadata": {},
   "source": [
    "Si quieres trabajar en algún proyecto que requiera de gran capacidad de computación (por ejemplo, entrenar modelos de Machine Learning) o tu ordenador es muy antiguo, utiliza Google Colaboratory, ya que evitarás preocuparte de muchos aspectos de correr Jupyter Notebook en local."
   ]
  },
  {
   "cell_type": "markdown",
   "metadata": {},
   "source": [
    "## Ejemplos de Jupyter Notebook"
   ]
  },
  {
   "cell_type": "markdown",
   "metadata": {},
   "source": [
    "A continuación puedes visualizar algunos documentos Jupyter Notebook que te pueden servir de ayuda en tu camino con la herramienta (todos los enlaces te dirigen a documentos Notebook hosteados en Binder, por lo cual podrás modificar cualquier celda y, por lo tanto, ver el contenido):\n",
    "- [Introducción a Python](https://mybinder.org/v2/gh/ehmatthes/intro_programming/master?filepath=notebooks/index.ipynb)\n",
    "- [Tic-Tac-Toe con Machine Learning](https://mybinder.org/v2/gh/albertopastormr/tic-tac-toe/master?filepath=%2FTic-Tac-Toe_UCI.ipynb)\n",
    "- [Introducción a plotting con Matplotlib](https://hub.mybinder.org/user/jrjohansson-sci-python-lectures-5byenvty/notebooks/Lecture-4-Matplotlib.ipynb)\n",
    "- [SymPy](https://hub.mybinder.org/user/ipython-ipython-2f6w2d1v/notebooks/examples/IPython%20Kernel/SymPy.ipynb) \n",
    "\n",
    "También puedes encontrar ejemplos [aquí](https://jupyter-notebook.readthedocs.io/en/stable/examples/Notebook/examples_index.html)."
   ]
  },
  {
   "cell_type": "markdown",
   "metadata": {},
   "source": [
    "## Siguientes pasos "
   ]
  },
  {
   "cell_type": "markdown",
   "metadata": {},
   "source": [
    "Si llegados aquí te he convencido de utilizar Jupyter Notebook, te recomiendo lo siguiente:\n",
    "- Si quieres utilizar Jupyter Notebook en local para tener control máximo sobre tu documento, utiliza [este tutorial](https://jupyter.readthedocs.io/en/latest/install.html) para realizar la instalación.\n",
    "- Si quieres utilizar Jupyter Notebook pero no quieres instalarlo en tu ordenador, utiliza [Google Colaboratory](https://colab.research.google.com), solo varía su interfaz de usuario."
   ]
  }
 ],
 "metadata": {
  "kernelspec": {
   "display_name": "Python 3",
   "language": "python",
   "name": "python3"
  },
  "language_info": {
   "codemirror_mode": {
    "name": "ipython",
    "version": 3
   },
   "file_extension": ".py",
   "mimetype": "text/x-python",
   "name": "python",
   "nbconvert_exporter": "python",
   "pygments_lexer": "ipython3",
   "version": "3.6.5"
  }
 },
 "nbformat": 4,
 "nbformat_minor": 2
}
