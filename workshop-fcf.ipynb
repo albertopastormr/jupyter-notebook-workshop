{
 "cells": [
  {
   "cell_type": "markdown",
   "metadata": {},
   "source": [
    "# Cálculo científico con Jupyter - _\"Talleres que molan\"_\n",
    "\n",
    "**Ponente:** [Alberto Pastor Moreno](https://albertopastormr.me/)\n",
    "\n",
    "**Organizado por:**\n",
    "\n",
    "- [Oficina de Software Libre de la Universidad Complutense de Madrid](https://www.ucm.es/oficina-de-software-libre/)\n",
    "- [Facultad de Ciencias Físicas](https://fisicas.ucm.es/)\n",
    "- [SciData](https://scidataucm.org/)"
   ]
  },
  {
   "cell_type": "markdown",
   "metadata": {},
   "source": [
    "<img src=\"./JupyterFisicas.jpg\" alt=\"drawing\" width=\"500\"/>\n"
   ]
  },
  {
   "cell_type": "markdown",
   "metadata": {},
   "source": [
    "https://jupyter.org/documentation"
   ]
  },
  {
   "cell_type": "markdown",
   "metadata": {},
   "source": [
    "## Project Jupyter"
   ]
  },
  {
   "cell_type": "markdown",
   "metadata": {},
   "source": [
    "https://jupyter.org/about"
   ]
  },
  {
   "cell_type": "markdown",
   "metadata": {},
   "source": [
    "## Jupyter Notebook"
   ]
  },
  {
   "cell_type": "markdown",
   "metadata": {},
   "source": [
    "Jupyter Notebook es un formato de documento abierto basado en JSON. Los documentos Jupyter Notebook contienen código ejecutable, texto rico en formateado con Markdown, ecuaciones con LaTeX y visualizaciones sin límites. Jupyter Notebook es un proyecto de Project Jupyter cuyo objetivo es facilitar la edición de textos científicos, agregándoles una nueva dimensión de interacción en la lectura permitiendo ejecutar el código citado en el documento. Jupyter Notebook es utilizado a diario por entidades tan relevantes en el la industria tecnológica como Google, Microsoft e IBM y por investigadores de instituciones de la talla de Berkeley o NASA.\n",
    "\n",
    "A continuación se exponen los pilares de Jupyter Notebook que nos ayudarán a entender levemente cómo funciona internamente."
   ]
  },
  {
   "cell_type": "markdown",
   "metadata": {},
   "source": [
    "### Kernel"
   ]
  },
  {
   "cell_type": "markdown",
   "metadata": {},
   "source": []
  },
  {
   "cell_type": "markdown",
   "metadata": {},
   "source": []
  },
  {
   "cell_type": "markdown",
   "metadata": {},
   "source": [
    "## Markdown"
   ]
  },
  {
   "cell_type": "markdown",
   "metadata": {},
   "source": []
  },
  {
   "cell_type": "markdown",
   "metadata": {},
   "source": [
    "## IPython"
   ]
  },
  {
   "cell_type": "markdown",
   "metadata": {},
   "source": []
  },
  {
   "cell_type": "markdown",
   "metadata": {},
   "source": [
    "## Otros kernels"
   ]
  },
  {
   "cell_type": "markdown",
   "metadata": {},
   "source": []
  },
  {
   "cell_type": "markdown",
   "metadata": {},
   "source": [
    "## Binder"
   ]
  },
  {
   "cell_type": "markdown",
   "metadata": {},
   "source": []
  }
 ],
 "metadata": {
  "kernelspec": {
   "display_name": "Python 3",
   "language": "python",
   "name": "python3"
  },
  "language_info": {
   "codemirror_mode": {
    "name": "ipython",
    "version": 3
   },
   "file_extension": ".py",
   "mimetype": "text/x-python",
   "name": "python",
   "nbconvert_exporter": "python",
   "pygments_lexer": "ipython3",
   "version": "3.6.5"
  }
 },
 "nbformat": 4,
 "nbformat_minor": 2
}
